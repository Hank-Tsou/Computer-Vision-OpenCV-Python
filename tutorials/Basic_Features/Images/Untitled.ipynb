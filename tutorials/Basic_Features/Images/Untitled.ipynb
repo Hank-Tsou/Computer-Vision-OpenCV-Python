{
 "cells": [
  {
   "cell_type": "code",
   "execution_count": null,
   "metadata": {},
   "outputs": [],
   "source": [
    "# Getting Start with Images"
   ]
  },
  {
   "cell_type": "code",
   "execution_count": null,
   "metadata": {},
   "outputs": [],
   "source": [
    "#----------------------------------------------------------------------------------------------------------------------#"
   ]
  },
  {
   "cell_type": "code",
   "execution_count": null,
   "metadata": {},
   "outputs": [],
   "source": [
    "# Outline\n",
    "# 1. Read Image\n",
    "# 2. - Display Image using OpenCV library\n",
    "#    - Display image using matplotlib in jupyter notebook\n",
    "# 3. Save Image"
   ]
  },
  {
   "cell_type": "code",
   "execution_count": null,
   "metadata": {},
   "outputs": [],
   "source": [
    "#----------------------------------------------------------------------------------------------------------------------#"
   ]
  },
  {
   "cell_type": "code",
   "execution_count": 8,
   "metadata": {},
   "outputs": [],
   "source": [
    "# import OpenCV library\n",
    "import cv2"
   ]
  },
  {
   "cell_type": "code",
   "execution_count": null,
   "metadata": {},
   "outputs": [],
   "source": [
    "#----------------------------------------------------------------------------------------------------------------------#"
   ]
  },
  {
   "cell_type": "code",
   "execution_count": 17,
   "metadata": {},
   "outputs": [],
   "source": [
    "# READ IMAGE\n",
    "\n",
    "# Function: Use the function cv2.imread() to read an image. \n",
    "\n",
    "# cv2.imread(Parameter1, Parameter2)\n",
    "\n",
    "#---------------------------------------------------------------------#\n",
    "# Parameter 1:                                                        #\n",
    "# an image name in the working directory or full image path           #\n",
    "#---------------------------------------------------------------------#\n",
    "# Parameter 2:                                                        #\n",
    "# cv2.IMREAD_COLOR:      Loads a color image.                         #\n",
    "# cv2.IMREAD_GRAYSCALE:  Loads image in grayscale mode.               #\n",
    "# cv2.IMREAD_UNCHANGED:  Loads image as such including alpha channel. #\n",
    "#---------------------------------------------------------------------#\n",
    "\n",
    "# Note: Instead of these three flags, you can simply pass integers 1, 0 or -1 respectively."
   ]
  },
  {
   "cell_type": "code",
   "execution_count": 21,
   "metadata": {},
   "outputs": [],
   "source": [
    "# Load an color image \n",
    "# img_color = cv2.imread('OpenCV_Logo.png', cv2.IMREAD_COLOR)\n",
    "\n",
    "img_color = cv2.imread('OpenCV_Logo.png', 1)\n",
    "\n",
    "# Load an color image in grayscale\n",
    "# img_gray = cv2.imread('OpenCV_Logo.png', cv2.IMREAD_GRAYSCALE)\n",
    "\n",
    "img_gray = cv2.imread('OpenCV_Logo.png', 0)\n",
    "\n",
    "# Load an image with all information\n",
    "# img_unchange = cv2.imread('OpenCV_Logo.png', cv2.IMREAD_UNCHANGED)\n",
    "\n",
    "img_unchange = cv2.imread('OpenCV_Logo.png', -1)"
   ]
  },
  {
   "cell_type": "code",
   "execution_count": null,
   "metadata": {},
   "outputs": [],
   "source": [
    "#----------------------------------------------------------------------------------------------------------------------#"
   ]
  },
  {
   "cell_type": "code",
   "execution_count": 25,
   "metadata": {},
   "outputs": [],
   "source": [
    "# Display Image using openCV library\n",
    "\n",
    "# Function: Use the function cv2.imshow() to display an image.\n",
    "\n",
    "# cv2.imread(Parameter1, Parameter2)\n",
    "\n",
    "#-------------------------------------#\n",
    "# Parameter 1:                        #\n",
    "# image window name                   #\n",
    "#-------------------------------------#\n",
    "# Parameter 2:                        #\n",
    "# pass your image into the function   #\n",
    "#-------------------------------------#"
   ]
  },
  {
   "cell_type": "code",
   "execution_count": 26,
   "metadata": {},
   "outputs": [],
   "source": [
    "# If you run this block, you will find that no image shows\n",
    "# that is because image shows and distory in a very short of time\n",
    "\n",
    "cv2.imshow('image',img_gray)"
   ]
  },
  {
   "cell_type": "code",
   "execution_count": 27,
   "metadata": {},
   "outputs": [],
   "source": [
    "# cv2.waitKey() is a keyboard binding function. Its argument is the time in milliseconds.\n",
    "# If 0 is passed, it waits indefinitely for a key stroke.\n",
    "\n",
    "# cv2.destroyAllWindows() simply destroys all the windows we created.\n",
    "\n",
    "cv2.imshow('image',img_gray)\n",
    "cv2.waitKey(0)\n",
    "cv2.destroyAllWindows()"
   ]
  },
  {
   "cell_type": "code",
   "execution_count": null,
   "metadata": {},
   "outputs": [],
   "source": [
    "#----------------------------------------------------------------------------------------------------------------------#"
   ]
  },
  {
   "cell_type": "code",
   "execution_count": null,
   "metadata": {},
   "outputs": [],
   "source": [
    "# Display Image using matplotlib\n",
    "\n",
    "# Install matplotlib in your working environment by using \" pip install matplotlib \"\n",
    "\n",
    "# Function: Use the function imshow() to display an image.\n",
    "\n",
    "# imshow(Parameter)\n",
    "\n",
    "#-----------------------------------#\n",
    "# Parameter:                        #\n",
    "# pass your image into the function #\n",
    "#-----------------------------------#"
   ]
  },
  {
   "cell_type": "code",
   "execution_count": null,
   "metadata": {},
   "outputs": [],
   "source": [
    "# import library or function\n",
    "from matplotlib import pyplot as plt\n",
    "\n",
    "# show the image in jupyter notebook\n",
    "%matplotlib inline # add this line in order to show image inline in jupyter notebook"
   ]
  },
  {
   "cell_type": "code",
   "execution_count": 30,
   "metadata": {},
   "outputs": [
    {
     "data": {
      "text/plain": [
       "<matplotlib.image.AxesImage at 0x7f1d79275320>"
      ]
     },
     "execution_count": 30,
     "metadata": {},
     "output_type": "execute_result"
    },
    {
     "data": {
      "image/png": "[encoded data removed]",
      "text/plain": [
       "<Figure size 432x288 with 1 Axes>"
      ]
     },
     "metadata": {
      "needs_background": "light"
     },
     "output_type": "display_data"
    }
   ],
   "source": [
    "# Display image\n",
    "plt.imshow(img_gray, cmap='gray')"
   ]
  },
  {
   "cell_type": "code",
   "execution_count": null,
   "metadata": {},
   "outputs": [],
   "source": []
  }
 ],
 "metadata": {
  "kernelspec": {
   "display_name": "Python 3",
   "language": "python",
   "name": "python3"
  },
  "language_info": {
   "codemirror_mode": {
    "name": "ipython",
    "version": 3
   },
   "file_extension": ".py",
   "mimetype": "text/x-python",
   "name": "python",
   "nbconvert_exporter": "python",
   "pygments_lexer": "ipython3",
   "version": "3.6.8"
  }
 },
 "nbformat": 4,
 "nbformat_minor": 2
}
